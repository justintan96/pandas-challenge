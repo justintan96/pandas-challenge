{
 "cells": [
  {
   "cell_type": "markdown",
   "metadata": {},
   "source": [
    "### Note\n",
    "* Instructions have been included for each segment. You do not have to follow them exactly, but they are included to help you think through the steps."
   ]
  },
  {
   "cell_type": "code",
   "execution_count": 8,
   "metadata": {},
   "outputs": [
    {
     "output_type": "execute_result",
     "data": {
      "text/plain": [
       "   Purchase ID             SN  Age Gender  Item ID  \\\n",
       "0            0        Lisim78   20   Male      108   \n",
       "1            1    Lisovynya38   40   Male      143   \n",
       "2            2     Ithergue48   24   Male       92   \n",
       "3            3  Chamassasya86   24   Male      100   \n",
       "4            4      Iskosia90   23   Male      131   \n",
       "\n",
       "                                   Item Name  Price  \n",
       "0  Extraction, Quickblade Of Trembling Hands   3.53  \n",
       "1                          Frenzied Scimitar   1.56  \n",
       "2                               Final Critic   4.88  \n",
       "3                                Blindscythe   3.27  \n",
       "4                                       Fury   1.44  "
      ],
      "text/html": "<div>\n<style scoped>\n    .dataframe tbody tr th:only-of-type {\n        vertical-align: middle;\n    }\n\n    .dataframe tbody tr th {\n        vertical-align: top;\n    }\n\n    .dataframe thead th {\n        text-align: right;\n    }\n</style>\n<table border=\"1\" class=\"dataframe\">\n  <thead>\n    <tr style=\"text-align: right;\">\n      <th></th>\n      <th>Purchase ID</th>\n      <th>SN</th>\n      <th>Age</th>\n      <th>Gender</th>\n      <th>Item ID</th>\n      <th>Item Name</th>\n      <th>Price</th>\n    </tr>\n  </thead>\n  <tbody>\n    <tr>\n      <th>0</th>\n      <td>0</td>\n      <td>Lisim78</td>\n      <td>20</td>\n      <td>Male</td>\n      <td>108</td>\n      <td>Extraction, Quickblade Of Trembling Hands</td>\n      <td>3.53</td>\n    </tr>\n    <tr>\n      <th>1</th>\n      <td>1</td>\n      <td>Lisovynya38</td>\n      <td>40</td>\n      <td>Male</td>\n      <td>143</td>\n      <td>Frenzied Scimitar</td>\n      <td>1.56</td>\n    </tr>\n    <tr>\n      <th>2</th>\n      <td>2</td>\n      <td>Ithergue48</td>\n      <td>24</td>\n      <td>Male</td>\n      <td>92</td>\n      <td>Final Critic</td>\n      <td>4.88</td>\n    </tr>\n    <tr>\n      <th>3</th>\n      <td>3</td>\n      <td>Chamassasya86</td>\n      <td>24</td>\n      <td>Male</td>\n      <td>100</td>\n      <td>Blindscythe</td>\n      <td>3.27</td>\n    </tr>\n    <tr>\n      <th>4</th>\n      <td>4</td>\n      <td>Iskosia90</td>\n      <td>23</td>\n      <td>Male</td>\n      <td>131</td>\n      <td>Fury</td>\n      <td>1.44</td>\n    </tr>\n  </tbody>\n</table>\n</div>"
     },
     "metadata": {},
     "execution_count": 8
    }
   ],
   "source": [
    "#PLEASE NOTE: CONCLUSION IS AT THE VERY END \n",
    "\n",
    "# Dependencies and Setup\n",
    "import pandas as pd\n",
    "\n",
    "# File to Load (Remember to Change These)\n",
    "heroes_file = \"Resources/purchase_data.csv\"\n",
    "\n",
    "# Read Purchasing File and store into Pandas data frame\n",
    "purchase_df = pd.read_csv(heroes_file)\n",
    "\n",
    "purchase_df.head()\n"
   ]
  },
  {
   "cell_type": "markdown",
   "metadata": {},
   "source": [
    "## Player Count"
   ]
  },
  {
   "cell_type": "markdown",
   "metadata": {},
   "source": [
    "* Display the total number of players\n"
   ]
  },
  {
   "cell_type": "code",
   "execution_count": 2,
   "metadata": {},
   "outputs": [
    {
     "output_type": "execute_result",
     "data": {
      "text/plain": [
       "576"
      ]
     },
     "metadata": {},
     "execution_count": 2
    }
   ],
   "source": [
    "#SN is the player ID, so by counting the SN in the data frame we will figue out how many players there are\n",
    "\n",
    "\n",
    "duplicate_df = purchase_df.drop_duplicates(subset=['SN'])\n",
    "\n",
    "total_players = duplicate_df[\"SN\"].count()\n",
    "total_players"
   ]
  },
  {
   "cell_type": "code",
   "execution_count": 3,
   "metadata": {},
   "outputs": [
    {
     "output_type": "execute_result",
     "data": {
      "text/plain": [
       "576"
      ]
     },
     "metadata": {},
     "execution_count": 3
    }
   ],
   "source": [
    "unique = len(purchase_df['SN'].unique())\n",
    "unique"
   ]
  },
  {
   "cell_type": "markdown",
   "metadata": {},
   "source": [
    "## Purchasing Analysis (Total)"
   ]
  },
  {
   "cell_type": "markdown",
   "metadata": {},
   "source": [
    "* Run basic calculations to obtain number of unique items, average price, etc.\n",
    "\n",
    "\n",
    "* Create a summary data frame to hold the results\n",
    "\n",
    "\n",
    "* Optional: give the displayed data cleaner formatting\n",
    "\n",
    "\n",
    "* Display the summary data frame\n"
   ]
  },
  {
   "cell_type": "code",
   "execution_count": 4,
   "metadata": {
    "scrolled": true
   },
   "outputs": [
    {
     "output_type": "execute_result",
     "data": {
      "text/plain": [
       "   Number of Unique Items  Average Price  Number of Purchases  Total Revenue\n",
       "0                     179           3.05                  780        2379.77"
      ],
      "text/html": "<div>\n<style scoped>\n    .dataframe tbody tr th:only-of-type {\n        vertical-align: middle;\n    }\n\n    .dataframe tbody tr th {\n        vertical-align: top;\n    }\n\n    .dataframe thead th {\n        text-align: right;\n    }\n</style>\n<table border=\"1\" class=\"dataframe\">\n  <thead>\n    <tr style=\"text-align: right;\">\n      <th></th>\n      <th>Number of Unique Items</th>\n      <th>Average Price</th>\n      <th>Number of Purchases</th>\n      <th>Total Revenue</th>\n    </tr>\n  </thead>\n  <tbody>\n    <tr>\n      <th>0</th>\n      <td>179</td>\n      <td>3.05</td>\n      <td>780</td>\n      <td>2379.77</td>\n    </tr>\n  </tbody>\n</table>\n</div>"
     },
     "metadata": {},
     "execution_count": 4
    }
   ],
   "source": [
    "#Using the unique function, we find the unique items and then find the length of this to figure out the numeric value of how many unique items there are\n",
    "unique_items = len(purchase_df['Item Name'].unique())\n",
    "\n",
    "# We want to find number of purchases\n",
    "\n",
    "total_purchase = len(purchase_df['Purchase ID'])\n",
    "\n",
    "# We want to find total revenue\n",
    "\n",
    "total_price = purchase_df['Price'].sum()\n",
    "total_price\n",
    "\n",
    "# we want to find average price (since we have found how many purchases, and total price we just have to divide the two to find the average )\n",
    "\n",
    "average_price = total_price/total_purchase\n",
    "average_price = average_price.round(decimals=2)\n",
    "average_price\n",
    "\n",
    "# display in a summary data frame (need to figure out how to put dollar signs)\n",
    "\n",
    "summary_purchase = pd.DataFrame({\"Number of Unique Items\": [unique_items],\n",
    "                                 \"Average Price\": [average_price],\n",
    "                                 \"Number of Purchases\": [total_purchase],\n",
    "                                 \"Total Revenue\": [total_price]})\n",
    "\n",
    "summary_purchase"
   ]
  },
  {
   "cell_type": "markdown",
   "metadata": {},
   "source": [
    "## Gender Demographics"
   ]
  },
  {
   "cell_type": "markdown",
   "metadata": {},
   "source": [
    "* Percentage and Count of Male Players\n",
    "\n",
    "\n",
    "* Percentage and Count of Female Players\n",
    "\n",
    "\n",
    "* Percentage and Count of Other / Non-Disclosed\n",
    "\n",
    "\n"
   ]
  },
  {
   "cell_type": "code",
   "execution_count": 5,
   "metadata": {},
   "outputs": [
    {
     "output_type": "execute_result",
     "data": {
      "text/plain": [
       "                       Total Count Percentage of Players\n",
       "Female                          81                14.49%\n",
       "Male                           484                83.59%\n",
       "Other / Non-Disclosed           11                 1.92%"
      ],
      "text/html": "<div>\n<style scoped>\n    .dataframe tbody tr th:only-of-type {\n        vertical-align: middle;\n    }\n\n    .dataframe tbody tr th {\n        vertical-align: top;\n    }\n\n    .dataframe thead th {\n        text-align: right;\n    }\n</style>\n<table border=\"1\" class=\"dataframe\">\n  <thead>\n    <tr style=\"text-align: right;\">\n      <th></th>\n      <th>Total Count</th>\n      <th>Percentage of Players</th>\n    </tr>\n  </thead>\n  <tbody>\n    <tr>\n      <th>Female</th>\n      <td>81</td>\n      <td>14.49%</td>\n    </tr>\n    <tr>\n      <th>Male</th>\n      <td>484</td>\n      <td>83.59%</td>\n    </tr>\n    <tr>\n      <th>Other / Non-Disclosed</th>\n      <td>11</td>\n      <td>1.92%</td>\n    </tr>\n  </tbody>\n</table>\n</div>"
     },
     "metadata": {},
     "execution_count": 5
    }
   ],
   "source": [
    "\n",
    "# drop any duplicate players in SN so we do not double count gender as \n",
    "\n",
    "duplicate_df = purchase_df.drop_duplicates(subset=['SN'])\n",
    "\n",
    "# First we create a dataframe which only isolates the gender column of the original data and to receive a count of each gender\n",
    "\n",
    "gender_demo_df = pd.DataFrame(duplicate_df['Gender'].value_counts())\n",
    "\n",
    "#we then establish the number of gender data there are\n",
    "\n",
    "total_gender = len(purchase_df[\"Gender\"])\n",
    "\n",
    "# after using the gender dataframe, we divide each value count by the total number and multiple it by 100 to give the percent amount,after we attach it to our gender dataframe and then make sure it is rounded properly\n",
    "\n",
    "percent_gender = (purchase_df['Gender'].value_counts()/total_gender)*100\n",
    "\n",
    "gender_demo_df[\"percent_gender\"] = percent_gender\n",
    "\n",
    "gender_demo_df[\"percent_gender\"] = gender_demo_df[\"percent_gender\"].map(\"{:,.2f}%\".format)\n",
    "\n",
    "#we then change the header names to match what was asked. \n",
    "\n",
    "gender_demo_df = gender_demo_df.rename(columns={\"Gender\": \"Total Count\",\n",
    "                                   \"percent_gender\": \"Percentage of Players\"})\n",
    "\n",
    "gender_demo_df = gender_demo_df.reindex(['Female', 'Male', 'Other / Non-Disclosed'])\n",
    "\n",
    "gender_demo_df"
   ]
  },
  {
   "cell_type": "markdown",
   "metadata": {},
   "source": [
    "\n",
    "## Purchasing Analysis (Gender)"
   ]
  },
  {
   "cell_type": "markdown",
   "metadata": {},
   "source": [
    "* Run basic calculations to obtain purchase count, avg. purchase price, avg. purchase total per person etc. by gender\n",
    "\n",
    "\n",
    "\n",
    "\n",
    "* Create a summary data frame to hold the results\n",
    "\n",
    "\n",
    "* Optional: give the displayed data cleaner formatting\n",
    "\n",
    "\n",
    "* Display the summary data frame"
   ]
  },
  {
   "cell_type": "code",
   "execution_count": 6,
   "metadata": {},
   "outputs": [
    {
     "output_type": "execute_result",
     "data": {
      "text/plain": [
       "                       Purchase Count  Average Purchase Price  \\\n",
       "Gender                                                          \n",
       "Female                            113                3.203009   \n",
       "Male                              652                3.017853   \n",
       "Other / Non-Disclosed              15                3.346000   \n",
       "\n",
       "                       Total Purchase Price  Average Total Purchase per Person  \n",
       "Gender                                                                          \n",
       "Female                               361.94                           4.468395  \n",
       "Male                                1967.64                           4.065372  \n",
       "Other / Non-Disclosed                 50.19                           4.562727  "
      ],
      "text/html": "<div>\n<style scoped>\n    .dataframe tbody tr th:only-of-type {\n        vertical-align: middle;\n    }\n\n    .dataframe tbody tr th {\n        vertical-align: top;\n    }\n\n    .dataframe thead th {\n        text-align: right;\n    }\n</style>\n<table border=\"1\" class=\"dataframe\">\n  <thead>\n    <tr style=\"text-align: right;\">\n      <th></th>\n      <th>Purchase Count</th>\n      <th>Average Purchase Price</th>\n      <th>Total Purchase Price</th>\n      <th>Average Total Purchase per Person</th>\n    </tr>\n    <tr>\n      <th>Gender</th>\n      <th></th>\n      <th></th>\n      <th></th>\n      <th></th>\n    </tr>\n  </thead>\n  <tbody>\n    <tr>\n      <th>Female</th>\n      <td>113</td>\n      <td>3.203009</td>\n      <td>361.94</td>\n      <td>4.468395</td>\n    </tr>\n    <tr>\n      <th>Male</th>\n      <td>652</td>\n      <td>3.017853</td>\n      <td>1967.64</td>\n      <td>4.065372</td>\n    </tr>\n    <tr>\n      <th>Other / Non-Disclosed</th>\n      <td>15</td>\n      <td>3.346000</td>\n      <td>50.19</td>\n      <td>4.562727</td>\n    </tr>\n  </tbody>\n</table>\n</div>"
     },
     "metadata": {},
     "execution_count": 6
    }
   ],
   "source": [
    "# first we group the original data frame by gender as this is what it is asking\n",
    "\n",
    "gender_purchase_df = purchase_df.groupby(\"Gender\")\n",
    "\n",
    "# we need this for when we calculate average total purchase per person because  gendr_purchase_df contains double ups of players when we want to find gender average we only want to count the player once. \n",
    "\n",
    "duplicate_df_2 = duplicate_df.groupby(\"Gender\")\n",
    "\n",
    "#once that is done we need to get the sum of the prices and the average purchase price \n",
    "\n",
    "total_gen_purchase = gender_purchase_df[\"Price\"].sum()\n",
    "average_purchase = gender_purchase_df['Price'].mean()\n",
    "\n",
    "# average total purchase per gender group, we use the total purchase by gender and then divide the amount of people in that gender group\n",
    "average_gen_purchase = total_gen_purchase/duplicate_df_2[\"Purchase ID\"].count()\n",
    "average_gen_purchase\n",
    "\n",
    "# we then create a dataframe which is based off the count of purchase ID from the gender_purchase_df dataframe and then we can attach our additional data list into it \n",
    "\n",
    "purchase_analysis_df = pd.DataFrame(gender_purchase_df[\"Purchase ID\"].count())\n",
    "purchase_analysis_df[\"Average Purchase Price\"] = average_purchase\n",
    "purchase_analysis_df[\"Total Purchase Price\"] = total_gen_purchase\n",
    "purchase_analysis_df[\"Average Total Purchase per Person\"] = average_gen_purchase\n",
    "purchase_analysis_df = purchase_analysis_df.rename(columns={\"Purchase ID\": \"Purchase Count\"})\n",
    "\n",
    "# Summary Table for age purchase data \n",
    "\n",
    "purchase_analysis_df\n"
   ]
  },
  {
   "cell_type": "markdown",
   "metadata": {},
   "source": [
    "## Age Demographics"
   ]
  },
  {
   "cell_type": "markdown",
   "metadata": {},
   "source": [
    "* Establish bins for ages\n",
    "\n",
    "\n",
    "* Categorize the existing players using the age bins. Hint: use pd.cut()\n",
    "\n",
    "\n",
    "* Calculate the numbers and percentages by age group\n",
    "\n",
    "\n",
    "* Create a summary data frame to hold the results\n",
    "\n",
    "\n",
    "* Optional: round the percentage column to two decimal points\n",
    "\n",
    "\n",
    "* Display Age Demographics Table\n"
   ]
  },
  {
   "cell_type": "code",
   "execution_count": 7,
   "metadata": {},
   "outputs": [
    {
     "output_type": "stream",
     "name": "stderr",
     "text": [
      "<ipython-input-7-cce23506c5b4>:10: SettingWithCopyWarning: \nA value is trying to be set on a copy of a slice from a DataFrame.\nTry using .loc[row_indexer,col_indexer] = value instead\n\nSee the caveats in the documentation: https://pandas.pydata.org/pandas-docs/stable/user_guide/indexing.html#returning-a-view-versus-a-copy\n  age_group_df[\"Age Summary\"] = pd.cut(age_group_df[\"Age\"],age_bins, labels=group_names)\n"
     ]
    },
    {
     "output_type": "execute_result",
     "data": {
      "text/plain": [
       "            Percentage of Players  Total Count\n",
       "Age Summary                                   \n",
       "<10                         2.95%           17\n",
       "10-14                       3.82%           22\n",
       "15-19                      18.58%          107\n",
       "20-24                      44.79%          258\n",
       "25-29                      13.37%           77\n",
       "30-34                       9.03%           52\n",
       "35-39                       5.38%           31\n",
       "40+                         2.08%           12"
      ],
      "text/html": "<div>\n<style scoped>\n    .dataframe tbody tr th:only-of-type {\n        vertical-align: middle;\n    }\n\n    .dataframe tbody tr th {\n        vertical-align: top;\n    }\n\n    .dataframe thead th {\n        text-align: right;\n    }\n</style>\n<table border=\"1\" class=\"dataframe\">\n  <thead>\n    <tr style=\"text-align: right;\">\n      <th></th>\n      <th>Percentage of Players</th>\n      <th>Total Count</th>\n    </tr>\n    <tr>\n      <th>Age Summary</th>\n      <th></th>\n      <th></th>\n    </tr>\n  </thead>\n  <tbody>\n    <tr>\n      <th>&lt;10</th>\n      <td>2.95%</td>\n      <td>17</td>\n    </tr>\n    <tr>\n      <th>10-14</th>\n      <td>3.82%</td>\n      <td>22</td>\n    </tr>\n    <tr>\n      <th>15-19</th>\n      <td>18.58%</td>\n      <td>107</td>\n    </tr>\n    <tr>\n      <th>20-24</th>\n      <td>44.79%</td>\n      <td>258</td>\n    </tr>\n    <tr>\n      <th>25-29</th>\n      <td>13.37%</td>\n      <td>77</td>\n    </tr>\n    <tr>\n      <th>30-34</th>\n      <td>9.03%</td>\n      <td>52</td>\n    </tr>\n    <tr>\n      <th>35-39</th>\n      <td>5.38%</td>\n      <td>31</td>\n    </tr>\n    <tr>\n      <th>40+</th>\n      <td>2.08%</td>\n      <td>12</td>\n    </tr>\n  </tbody>\n</table>\n</div>"
     },
     "metadata": {},
     "execution_count": 7
    }
   ],
   "source": [
    "# establish bins of age\n",
    "\n",
    "age_bins = [0, 9.9, 14.9, 19.9, 24.9, 29.9, 34.9, 39.9, 100]\n",
    "group_names = [\"<10\", \"10-14\", \"15-19\", \"20-24\", \"25-29\", \"30-34\", \"35-39\", \"40+\"]\n",
    "\n",
    "# use pd cut to segment and sort data into designated bins with the designated group names\n",
    "# i am using the data frame where i dropped SN duplicates so we don't double count an individual\n",
    "\n",
    "age_group_df = duplicate_df\n",
    "age_group_df[\"Age Summary\"] = pd.cut(age_group_df[\"Age\"],age_bins, labels=group_names)\n",
    "age_group_df\n",
    "\n",
    "#calculate number and percentages by age group\n",
    "\n",
    "age_group_df = age_group_df.groupby(\"Age Summary\")\n",
    "age_group_df.count()\n",
    "\n",
    "new_group_df = pd.DataFrame(age_group_df.count())\n",
    "new_group_df \n",
    "\n",
    "#change the purchase ID column so that it shows percentage total instead\n",
    "\n",
    "new_group_df[\"Purchase ID\"] = (new_group_df[\"Purchase ID\"]/total_players)*100\n",
    "\n",
    "new_group_df[\"Purchase ID\"] = new_group_df[\"Purchase ID\"].map(\"{:,.2f}%\".format)\n",
    "new_group_df\n",
    "\n",
    "# drop the unecessary columns and create summary data frame to hold results \n",
    "\n",
    "new_group_df = new_group_df[[\"Purchase ID\", \"SN\"]]\n",
    "new_group_df \n",
    "\n",
    "# rename column names \n",
    "\n",
    "new_group_df = new_group_df.rename(columns={\"Purchase ID\": \"Percentage of Players\",\n",
    "                                            \"SN\": \"Total Count\"})\n",
    "new_group_df"
   ]
  },
  {
   "cell_type": "markdown",
   "metadata": {},
   "source": [
    "## Purchasing Analysis (Age)"
   ]
  },
  {
   "cell_type": "markdown",
   "metadata": {},
   "source": [
    "* Bin the purchase_data data frame by age\n",
    "\n",
    "\n",
    "* Run basic calculations to obtain purchase count, avg. purchase price, avg. purchase total per person etc. in the table below\n",
    "\n",
    "\n",
    "* Create a summary data frame to hold the results\n",
    "\n",
    "\n",
    "* Optional: give the displayed data cleaner formatting\n",
    "\n",
    "\n",
    "* Display the summary data frame"
   ]
  },
  {
   "cell_type": "code",
   "execution_count": 15,
   "metadata": {},
   "outputs": [
    {
     "output_type": "execute_result",
     "data": {
      "text/plain": [
       "             Purchase Count Average Purchase Price Total Purchase Value  \\\n",
       "Age Summary                                                               \n",
       "<10                      23                  $3.35               $77.13   \n",
       "10-14                    28                  $2.96               $82.78   \n",
       "15-19                   136                  $3.04              $412.89   \n",
       "20-24                   365                  $3.05            $1,114.06   \n",
       "25-29                   101                  $2.90              $293.00   \n",
       "30-34                    73                  $2.93              $214.00   \n",
       "35-39                    41                  $3.60              $147.67   \n",
       "40+                      13                  $2.94               $38.24   \n",
       "\n",
       "            Avg Total Purchase per Person  \n",
       "Age Summary                                \n",
       "<10                                 $3.35  \n",
       "10-14                               $2.96  \n",
       "15-19                               $3.04  \n",
       "20-24                               $3.05  \n",
       "25-29                               $2.90  \n",
       "30-34                               $2.93  \n",
       "35-39                               $3.60  \n",
       "40+                                 $2.94  "
      ],
      "text/html": "<div>\n<style scoped>\n    .dataframe tbody tr th:only-of-type {\n        vertical-align: middle;\n    }\n\n    .dataframe tbody tr th {\n        vertical-align: top;\n    }\n\n    .dataframe thead th {\n        text-align: right;\n    }\n</style>\n<table border=\"1\" class=\"dataframe\">\n  <thead>\n    <tr style=\"text-align: right;\">\n      <th></th>\n      <th>Purchase Count</th>\n      <th>Average Purchase Price</th>\n      <th>Total Purchase Value</th>\n      <th>Avg Total Purchase per Person</th>\n    </tr>\n    <tr>\n      <th>Age Summary</th>\n      <th></th>\n      <th></th>\n      <th></th>\n      <th></th>\n    </tr>\n  </thead>\n  <tbody>\n    <tr>\n      <th>&lt;10</th>\n      <td>23</td>\n      <td>$3.35</td>\n      <td>$77.13</td>\n      <td>$3.35</td>\n    </tr>\n    <tr>\n      <th>10-14</th>\n      <td>28</td>\n      <td>$2.96</td>\n      <td>$82.78</td>\n      <td>$2.96</td>\n    </tr>\n    <tr>\n      <th>15-19</th>\n      <td>136</td>\n      <td>$3.04</td>\n      <td>$412.89</td>\n      <td>$3.04</td>\n    </tr>\n    <tr>\n      <th>20-24</th>\n      <td>365</td>\n      <td>$3.05</td>\n      <td>$1,114.06</td>\n      <td>$3.05</td>\n    </tr>\n    <tr>\n      <th>25-29</th>\n      <td>101</td>\n      <td>$2.90</td>\n      <td>$293.00</td>\n      <td>$2.90</td>\n    </tr>\n    <tr>\n      <th>30-34</th>\n      <td>73</td>\n      <td>$2.93</td>\n      <td>$214.00</td>\n      <td>$2.93</td>\n    </tr>\n    <tr>\n      <th>35-39</th>\n      <td>41</td>\n      <td>$3.60</td>\n      <td>$147.67</td>\n      <td>$3.60</td>\n    </tr>\n    <tr>\n      <th>40+</th>\n      <td>13</td>\n      <td>$2.94</td>\n      <td>$38.24</td>\n      <td>$2.94</td>\n    </tr>\n  </tbody>\n</table>\n</div>"
     },
     "metadata": {},
     "execution_count": 15
    }
   ],
   "source": [
    "age_bins = [0, 9.9, 14.9, 19.9, 24.9, 29.9, 34.9, 39.9, 100]\n",
    "group_names = [\"<10\", \"10-14\", \"15-19\", \"20-24\", \"25-29\", \"30-34\", \"35-39\", \"40+\"]\n",
    "\n",
    "age_group_df = purchase_df\n",
    "age_group_df[\"Age Summary\"] = pd.cut(age_group_df[\"Age\"],age_bins, labels=group_names)\n",
    "age_group_df\n",
    "\n",
    "#calculate number and percentages by age group\n",
    "\n",
    "age_group_df = age_group_df.groupby(\"Age Summary\")\n",
    "age_group_df.count()\n",
    "\n",
    "# Create a new dataframe based off the count of purchase ID in that age_group_df dataframe so we can amend our new calcualted data into it later for simplicity\n",
    "analysis_by_age_df = pd.DataFrame(age_group_df[\"Purchase ID\"].count())\n",
    "analysis_by_age_df\n",
    "\n",
    "# Get Total purchase value by age\n",
    "total_purchase_age = age_group_df[\"Price\"].sum()\n",
    "\n",
    "# Get Average purchase price by age\n",
    "avg_purchase_price = age_group_df[\"Price\"].mean()\n",
    "\n",
    "# Get Average total purchase per person  \n",
    "ave_purchase = total_purchase_age/age_group_df[\"Purchase ID\"].count()\n",
    "\n",
    "# reformat the data after because for some reason if i do it right after it gives an error \n",
    "\n",
    "ave_purchase = ave_purchase.map(\"${:,.2f}\".format)\n",
    "avg_purchase_price = avg_purchase_price.map(\"${:,.2f}\".format)\n",
    "total_purchase_age = total_purchase_age.map(\"${:,.2f}\".format)\n",
    "\n",
    "# Organize summary gender data, get all columns to organized Data Frame, add needed columns to it\n",
    "analysis_by_age_df[\"Average Purchase Price\"] = avg_purchase_price\n",
    "analysis_by_age_df[\"Total Purchase Value\"] = total_purchase_age\n",
    "analysis_by_age_df[\"Avg Total Purchase per Person\"] = ave_purchase\n",
    "analysis_by_age_df\n",
    "\n",
    "# Summary purchasing analysis DF grouped by age\n",
    "\n",
    "analysis_by_age_df = analysis_by_age_df.rename(columns={\"Purchase ID\":\"Purchase Count\"})\n",
    "analysis_by_age_df\n"
   ]
  },
  {
   "cell_type": "markdown",
   "metadata": {},
   "source": [
    "## Top Spenders"
   ]
  },
  {
   "cell_type": "markdown",
   "metadata": {},
   "source": [
    "* Run basic calculations to obtain the results in the table below\n",
    "\n",
    "\n",
    "* Create a summary data frame to hold the results\n",
    "\n",
    "\n",
    "* Sort the total purchase value column in descending order\n",
    "\n",
    "\n",
    "* Optional: give the displayed data cleaner formatting\n",
    "\n",
    "\n",
    "* Display a preview of the summary data frame\n",
    "\n"
   ]
  },
  {
   "cell_type": "code",
   "execution_count": 17,
   "metadata": {},
   "outputs": [
    {
     "output_type": "execute_result",
     "data": {
      "text/plain": [
       "             Purchase Count Average Purchase Price  Total Purchase Price\n",
       "SN                                                                      \n",
       "Lisosia93                 5                  $3.79                 18.96\n",
       "Idastidru52               4                  $3.86                 15.45\n",
       "Chamjask73                3                  $4.61                 13.83\n",
       "Iral74                    4                  $3.40                 13.62\n",
       "Iskadarya95               3                  $4.37                 13.10\n",
       "...                     ...                    ...                   ...\n",
       "Ililsasya43               1                  $1.02                  1.02\n",
       "Irilis75                  1                  $1.02                  1.02\n",
       "Aidai61                   1                  $1.01                  1.01\n",
       "Chanirra79                1                  $1.01                  1.01\n",
       "Alo38                     1                  $1.00                  1.00\n",
       "\n",
       "[576 rows x 3 columns]"
      ],
      "text/html": "<div>\n<style scoped>\n    .dataframe tbody tr th:only-of-type {\n        vertical-align: middle;\n    }\n\n    .dataframe tbody tr th {\n        vertical-align: top;\n    }\n\n    .dataframe thead th {\n        text-align: right;\n    }\n</style>\n<table border=\"1\" class=\"dataframe\">\n  <thead>\n    <tr style=\"text-align: right;\">\n      <th></th>\n      <th>Purchase Count</th>\n      <th>Average Purchase Price</th>\n      <th>Total Purchase Price</th>\n    </tr>\n    <tr>\n      <th>SN</th>\n      <th></th>\n      <th></th>\n      <th></th>\n    </tr>\n  </thead>\n  <tbody>\n    <tr>\n      <th>Lisosia93</th>\n      <td>5</td>\n      <td>$3.79</td>\n      <td>18.96</td>\n    </tr>\n    <tr>\n      <th>Idastidru52</th>\n      <td>4</td>\n      <td>$3.86</td>\n      <td>15.45</td>\n    </tr>\n    <tr>\n      <th>Chamjask73</th>\n      <td>3</td>\n      <td>$4.61</td>\n      <td>13.83</td>\n    </tr>\n    <tr>\n      <th>Iral74</th>\n      <td>4</td>\n      <td>$3.40</td>\n      <td>13.62</td>\n    </tr>\n    <tr>\n      <th>Iskadarya95</th>\n      <td>3</td>\n      <td>$4.37</td>\n      <td>13.10</td>\n    </tr>\n    <tr>\n      <th>...</th>\n      <td>...</td>\n      <td>...</td>\n      <td>...</td>\n    </tr>\n    <tr>\n      <th>Ililsasya43</th>\n      <td>1</td>\n      <td>$1.02</td>\n      <td>1.02</td>\n    </tr>\n    <tr>\n      <th>Irilis75</th>\n      <td>1</td>\n      <td>$1.02</td>\n      <td>1.02</td>\n    </tr>\n    <tr>\n      <th>Aidai61</th>\n      <td>1</td>\n      <td>$1.01</td>\n      <td>1.01</td>\n    </tr>\n    <tr>\n      <th>Chanirra79</th>\n      <td>1</td>\n      <td>$1.01</td>\n      <td>1.01</td>\n    </tr>\n    <tr>\n      <th>Alo38</th>\n      <td>1</td>\n      <td>$1.00</td>\n      <td>1.00</td>\n    </tr>\n  </tbody>\n</table>\n<p>576 rows × 3 columns</p>\n</div>"
     },
     "metadata": {},
     "execution_count": 17
    }
   ],
   "source": [
    "# work with original dataset where there are duplicates since we are now focusing on SN\n",
    "\n",
    "#group by the players and formulate a new data frame \n",
    "\n",
    "sn_df = purchase_df.groupby(\"SN\")\n",
    "analysis_sn_df = pd.DataFrame(sn_df[\"Purchase ID\"].count())\n",
    "analysis_sn_df\n",
    "\n",
    "#total purchase price by SN \n",
    "\n",
    "total_sn = sn_df[\"Price\"].sum()\n",
    "\n",
    "#average price by SN\n",
    "\n",
    "avg_sn = sn_df[\"Price\"].mean()\n",
    "\n",
    "\n",
    "#total_sn = total_sn.map(\"${:,.2f}\".format) i could not get this to work, if i uncomment this my total purchase price captured is 9.50 which is incorrect\n",
    "\n",
    "avg_sn = avg_sn.map(\"${:,.2f}\".format)\n",
    "\n",
    "# sort the table out \n",
    "\n",
    "analysis_sn_df[\"Average Purchase Price\"] = avg_sn\n",
    "analysis_sn_df[\"Total Purchase Price\"] = total_sn\n",
    "analysis_sn_df\n",
    "\n",
    "# Summaries the top spendors\n",
    "\n",
    "analysis_sn_df = analysis_sn_df.rename(columns={\"Purchase ID\": \"Purchase Count\"})\n",
    "analysis_sn_df = analysis_sn_df.sort_values(\"Total Purchase Price\", ascending = False)\n",
    "analysis_sn_df\n"
   ]
  },
  {
   "cell_type": "markdown",
   "metadata": {},
   "source": [
    "## Most Popular Items"
   ]
  },
  {
   "cell_type": "markdown",
   "metadata": {},
   "source": [
    "* Retrieve the Item ID, Item Name, and Item Price columns\n",
    "\n",
    "\n",
    "* Group by Item ID and Item Name. Perform calculations to obtain purchase count, item price, and total purchase value\n",
    "\n",
    "\n",
    "* Create a summary data frame to hold the results\n",
    "\n",
    "\n",
    "* Sort the purchase count column in descending order\n",
    "\n",
    "\n",
    "* Optional: give the displayed data cleaner formatting\n",
    "\n",
    "\n",
    "* Display a preview of the summary data frame\n",
    "\n"
   ]
  },
  {
   "cell_type": "code",
   "execution_count": 22,
   "metadata": {},
   "outputs": [
    {
     "output_type": "execute_result",
     "data": {
      "text/plain": [
       "                                                      Purchase Count  \\\n",
       "Item ID Item Name                                                      \n",
       "92      Final Critic                                              13   \n",
       "178     Oathbreaker, Last Hope of the Breaking Storm              12   \n",
       "145     Fiery Glass Crusader                                       9   \n",
       "132     Persuasion                                                 9   \n",
       "108     Extraction, Quickblade Of Trembling Hands                  9   \n",
       "...                                                              ...   \n",
       "42      The Decapitator                                            1   \n",
       "51      Endbringer                                                 1   \n",
       "118     Ghost Reaver, Longsword of Magic                           1   \n",
       "104     Gladiator's Glaive                                         1   \n",
       "91      Celeste                                                    1   \n",
       "\n",
       "                                                     Item Price  \\\n",
       "Item ID Item Name                                                 \n",
       "92      Final Critic                                      $4.61   \n",
       "178     Oathbreaker, Last Hope of the Breaking Storm      $4.23   \n",
       "145     Fiery Glass Crusader                              $4.58   \n",
       "132     Persuasion                                        $3.22   \n",
       "108     Extraction, Quickblade Of Trembling Hands         $3.53   \n",
       "...                                                         ...   \n",
       "42      The Decapitator                                   $1.75   \n",
       "51      Endbringer                                        $4.66   \n",
       "118     Ghost Reaver, Longsword of Magic                  $2.17   \n",
       "104     Gladiator's Glaive                                $1.93   \n",
       "91      Celeste                                           $4.17   \n",
       "\n",
       "                                                     Total Purchase Value  \n",
       "Item ID Item Name                                                          \n",
       "92      Final Critic                                               $59.99  \n",
       "178     Oathbreaker, Last Hope of the Breaking Storm               $50.76  \n",
       "145     Fiery Glass Crusader                                       $41.22  \n",
       "132     Persuasion                                                 $28.99  \n",
       "108     Extraction, Quickblade Of Trembling Hands                  $31.77  \n",
       "...                                                                   ...  \n",
       "42      The Decapitator                                             $1.75  \n",
       "51      Endbringer                                                  $4.66  \n",
       "118     Ghost Reaver, Longsword of Magic                            $2.17  \n",
       "104     Gladiator's Glaive                                          $1.93  \n",
       "91      Celeste                                                     $4.17  \n",
       "\n",
       "[179 rows x 3 columns]"
      ],
      "text/html": "<div>\n<style scoped>\n    .dataframe tbody tr th:only-of-type {\n        vertical-align: middle;\n    }\n\n    .dataframe tbody tr th {\n        vertical-align: top;\n    }\n\n    .dataframe thead th {\n        text-align: right;\n    }\n</style>\n<table border=\"1\" class=\"dataframe\">\n  <thead>\n    <tr style=\"text-align: right;\">\n      <th></th>\n      <th></th>\n      <th>Purchase Count</th>\n      <th>Item Price</th>\n      <th>Total Purchase Value</th>\n    </tr>\n    <tr>\n      <th>Item ID</th>\n      <th>Item Name</th>\n      <th></th>\n      <th></th>\n      <th></th>\n    </tr>\n  </thead>\n  <tbody>\n    <tr>\n      <th>92</th>\n      <th>Final Critic</th>\n      <td>13</td>\n      <td>$4.61</td>\n      <td>$59.99</td>\n    </tr>\n    <tr>\n      <th>178</th>\n      <th>Oathbreaker, Last Hope of the Breaking Storm</th>\n      <td>12</td>\n      <td>$4.23</td>\n      <td>$50.76</td>\n    </tr>\n    <tr>\n      <th>145</th>\n      <th>Fiery Glass Crusader</th>\n      <td>9</td>\n      <td>$4.58</td>\n      <td>$41.22</td>\n    </tr>\n    <tr>\n      <th>132</th>\n      <th>Persuasion</th>\n      <td>9</td>\n      <td>$3.22</td>\n      <td>$28.99</td>\n    </tr>\n    <tr>\n      <th>108</th>\n      <th>Extraction, Quickblade Of Trembling Hands</th>\n      <td>9</td>\n      <td>$3.53</td>\n      <td>$31.77</td>\n    </tr>\n    <tr>\n      <th>...</th>\n      <th>...</th>\n      <td>...</td>\n      <td>...</td>\n      <td>...</td>\n    </tr>\n    <tr>\n      <th>42</th>\n      <th>The Decapitator</th>\n      <td>1</td>\n      <td>$1.75</td>\n      <td>$1.75</td>\n    </tr>\n    <tr>\n      <th>51</th>\n      <th>Endbringer</th>\n      <td>1</td>\n      <td>$4.66</td>\n      <td>$4.66</td>\n    </tr>\n    <tr>\n      <th>118</th>\n      <th>Ghost Reaver, Longsword of Magic</th>\n      <td>1</td>\n      <td>$2.17</td>\n      <td>$2.17</td>\n    </tr>\n    <tr>\n      <th>104</th>\n      <th>Gladiator's Glaive</th>\n      <td>1</td>\n      <td>$1.93</td>\n      <td>$1.93</td>\n    </tr>\n    <tr>\n      <th>91</th>\n      <th>Celeste</th>\n      <td>1</td>\n      <td>$4.17</td>\n      <td>$4.17</td>\n    </tr>\n  </tbody>\n</table>\n<p>179 rows × 3 columns</p>\n</div>"
     },
     "metadata": {},
     "execution_count": 22
    }
   ],
   "source": [
    "# sort data frame by items (id and name)\n",
    "\n",
    "item_df = purchase_df.groupby([\"Item ID\", \"Item Name\"])\n",
    "\n",
    "# total purchase\n",
    "\n",
    "total_item = item_df[\"Price\"].sum()\n",
    "total_item = total_item.map(\"${:,.2f}\".format)\n",
    "\n",
    "# purchase price by item \n",
    "\n",
    "item_price = item_df[\"Price\"].mean()\n",
    "item_price  = item_price.map(\"${:,.2f}\".format)\n",
    "\n",
    "# sorting out the summary table \n",
    "\n",
    "item_analysis_df = pd.DataFrame(item_df[\"Purchase ID\"].count())\n",
    "item_analysis_df[\"Item Price\"] = item_price \n",
    "item_analysis_df[\"Total Purchase Value\"] = total_item \n",
    "\n",
    "item_analysis_df = item_analysis_df.rename(columns={\"Purchase ID\": \"Purchase Count\"})\n",
    "\n",
    "item_analysis_df = item_analysis_df.sort_values(\"Purchase Count\", ascending=False)\n",
    "item_analysis_df = item_analysis_df\n",
    "item_analysis_df"
   ]
  },
  {
   "cell_type": "markdown",
   "metadata": {},
   "source": [
    "## Most Profitable Items"
   ]
  },
  {
   "cell_type": "markdown",
   "metadata": {},
   "source": [
    "* Sort the above table by total purchase value in descending order\n",
    "\n",
    "\n",
    "* Optional: give the displayed data cleaner formatting\n",
    "\n",
    "\n",
    "* Display a preview of the data frame\n",
    "\n"
   ]
  },
  {
   "cell_type": "code",
   "execution_count": 23,
   "metadata": {
    "scrolled": true
   },
   "outputs": [
    {
     "output_type": "execute_result",
     "data": {
      "text/plain": [
       "                                                      Purchase Count  \\\n",
       "Item ID Item Name                                                      \n",
       "92      Final Critic                                              13   \n",
       "178     Oathbreaker, Last Hope of the Breaking Storm              12   \n",
       "82      Nirvana                                                    9   \n",
       "145     Fiery Glass Crusader                                       9   \n",
       "103     Singed Scalpel                                             8   \n",
       "...                                                              ...   \n",
       "28      Flux, Destroyer of Due Diligence                           2   \n",
       "126     Exiled Mithril Longsword                                   1   \n",
       "125     Whistling Mithril Warblade                                 2   \n",
       "104     Gladiator's Glaive                                         1   \n",
       "42      The Decapitator                                            1   \n",
       "\n",
       "                                                     Item Price  \\\n",
       "Item ID Item Name                                                 \n",
       "92      Final Critic                                      $4.61   \n",
       "178     Oathbreaker, Last Hope of the Breaking Storm      $4.23   \n",
       "82      Nirvana                                           $4.90   \n",
       "145     Fiery Glass Crusader                              $4.58   \n",
       "103     Singed Scalpel                                    $4.35   \n",
       "...                                                         ...   \n",
       "28      Flux, Destroyer of Due Diligence                  $1.06   \n",
       "126     Exiled Mithril Longsword                          $2.00   \n",
       "125     Whistling Mithril Warblade                        $1.00   \n",
       "104     Gladiator's Glaive                                $1.93   \n",
       "42      The Decapitator                                   $1.75   \n",
       "\n",
       "                                                      Total Purchase Value  \n",
       "Item ID Item Name                                                           \n",
       "92      Final Critic                                                 59.99  \n",
       "178     Oathbreaker, Last Hope of the Breaking Storm                 50.76  \n",
       "82      Nirvana                                                      44.10  \n",
       "145     Fiery Glass Crusader                                         41.22  \n",
       "103     Singed Scalpel                                               34.80  \n",
       "...                                                                    ...  \n",
       "28      Flux, Destroyer of Due Diligence                              2.12  \n",
       "126     Exiled Mithril Longsword                                      2.00  \n",
       "125     Whistling Mithril Warblade                                    2.00  \n",
       "104     Gladiator's Glaive                                            1.93  \n",
       "42      The Decapitator                                               1.75  \n",
       "\n",
       "[179 rows x 3 columns]"
      ],
      "text/html": "<div>\n<style scoped>\n    .dataframe tbody tr th:only-of-type {\n        vertical-align: middle;\n    }\n\n    .dataframe tbody tr th {\n        vertical-align: top;\n    }\n\n    .dataframe thead th {\n        text-align: right;\n    }\n</style>\n<table border=\"1\" class=\"dataframe\">\n  <thead>\n    <tr style=\"text-align: right;\">\n      <th></th>\n      <th></th>\n      <th>Purchase Count</th>\n      <th>Item Price</th>\n      <th>Total Purchase Value</th>\n    </tr>\n    <tr>\n      <th>Item ID</th>\n      <th>Item Name</th>\n      <th></th>\n      <th></th>\n      <th></th>\n    </tr>\n  </thead>\n  <tbody>\n    <tr>\n      <th>92</th>\n      <th>Final Critic</th>\n      <td>13</td>\n      <td>$4.61</td>\n      <td>59.99</td>\n    </tr>\n    <tr>\n      <th>178</th>\n      <th>Oathbreaker, Last Hope of the Breaking Storm</th>\n      <td>12</td>\n      <td>$4.23</td>\n      <td>50.76</td>\n    </tr>\n    <tr>\n      <th>82</th>\n      <th>Nirvana</th>\n      <td>9</td>\n      <td>$4.90</td>\n      <td>44.10</td>\n    </tr>\n    <tr>\n      <th>145</th>\n      <th>Fiery Glass Crusader</th>\n      <td>9</td>\n      <td>$4.58</td>\n      <td>41.22</td>\n    </tr>\n    <tr>\n      <th>103</th>\n      <th>Singed Scalpel</th>\n      <td>8</td>\n      <td>$4.35</td>\n      <td>34.80</td>\n    </tr>\n    <tr>\n      <th>...</th>\n      <th>...</th>\n      <td>...</td>\n      <td>...</td>\n      <td>...</td>\n    </tr>\n    <tr>\n      <th>28</th>\n      <th>Flux, Destroyer of Due Diligence</th>\n      <td>2</td>\n      <td>$1.06</td>\n      <td>2.12</td>\n    </tr>\n    <tr>\n      <th>126</th>\n      <th>Exiled Mithril Longsword</th>\n      <td>1</td>\n      <td>$2.00</td>\n      <td>2.00</td>\n    </tr>\n    <tr>\n      <th>125</th>\n      <th>Whistling Mithril Warblade</th>\n      <td>2</td>\n      <td>$1.00</td>\n      <td>2.00</td>\n    </tr>\n    <tr>\n      <th>104</th>\n      <th>Gladiator's Glaive</th>\n      <td>1</td>\n      <td>$1.93</td>\n      <td>1.93</td>\n    </tr>\n    <tr>\n      <th>42</th>\n      <th>The Decapitator</th>\n      <td>1</td>\n      <td>$1.75</td>\n      <td>1.75</td>\n    </tr>\n  </tbody>\n</table>\n<p>179 rows × 3 columns</p>\n</div>"
     },
     "metadata": {},
     "execution_count": 23
    }
   ],
   "source": [
    "# Sort out the table above but by total purchase value \n",
    "\n",
    "item_analysis_df[\"Total Purchase Value\"] = item_df[\"Price\"].sum()\n",
    "item_analysis_df\n",
    "\n",
    "item_analysis_df = item_analysis_df.sort_values(\"Total Purchase Value\", ascending=False)\n",
    "item_analysis_df\n"
   ]
  },
  {
   "cell_type": "code",
   "execution_count": null,
   "metadata": {},
   "outputs": [],
   "source": [
    "# CONCLUSION ON TREND \n",
    "\n",
    "\n",
    "# Observing the data set there are a total of 576 players in this game\n",
    "# Out of the 576, 83.6% are male while 14.29% are female with the rmaining 1.92% non-disclosing their gender. \n",
    "# This leads us to conclude that this game is predominantly played by male individuals. \n",
    "\n",
    "# In terms of age, majority of players (44.79%) are in the 20-24 age group while the 40+ age group had the lease amount of players (2.08%) \n",
    "\n",
    "# Lastly, the most popular item in the game is the Final Critic (Item ID92) which has the highest purchase count of 13 and a total purchase value of $59.99. It is also the most profitable item\n",
    "\n"
   ]
  }
 ],
 "metadata": {
  "anaconda-cloud": {},
  "kernel_info": {
   "name": "python3"
  },
  "kernelspec": {
   "name": "python388jvsc74a57bd06ae5a69d51937321194477b0fe6b784bc91adc50b6dc6daadd06e0a4296b18e7",
   "display_name": "Python 3.8.8 64-bit ('base': conda)"
  },
  "language_info": {
   "codemirror_mode": {
    "name": "ipython",
    "version": 3
   },
   "file_extension": ".py",
   "mimetype": "text/x-python",
   "name": "python",
   "nbconvert_exporter": "python",
   "pygments_lexer": "ipython3",
   "version": "3.8.8"
  },
  "latex_envs": {
   "LaTeX_envs_menu_present": true,
   "autoclose": false,
   "autocomplete": true,
   "bibliofile": "biblio.bib",
   "cite_by": "apalike",
   "current_citInitial": 1,
   "eqLabelWithNumbers": true,
   "eqNumInitial": 1,
   "hotkeys": {
    "equation": "Ctrl-E",
    "itemize": "Ctrl-I"
   },
   "labels_anchors": false,
   "latex_user_defs": false,
   "report_style_numbering": false,
   "user_envs_cfg": false
  },
  "nteract": {
   "version": "0.2.0"
  }
 },
 "nbformat": 4,
 "nbformat_minor": 2
}